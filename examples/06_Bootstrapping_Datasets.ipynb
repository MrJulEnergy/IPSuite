{
 "cells": [
  {
   "attachments": {},
   "cell_type": "markdown",
   "metadata": {},
   "source": [
    "# Bootstrapping Datasets"
   ]
  },
  {
   "attachments": {},
   "cell_type": "markdown",
   "metadata": {},
   "source": [
    "In our last example we assumed that there was a pre-existing dataset available for us to use.\n",
    "This is typically the case when working with literature datasets or if we perform the dataset aquisition with an external (molecular dyamics) program.\n",
    "\n",
    "However, in active learning scenarios one typically starts with a single (unlabeled) configuration. In these cases it is often convenient to bootstrap an initial training set in order to quickly obtain a stable force field with which to drive the sampling.\n",
    "\n",
    "A full active learning example can be found in a later notebook in this series."
   ]
  },
  {
   "cell_type": "code",
   "execution_count": null,
   "metadata": {},
   "outputs": [],
   "source": [
    "import ipsuite as ips"
   ]
  }
 ],
 "metadata": {
  "language_info": {
   "name": "python"
  },
  "orig_nbformat": 4
 },
 "nbformat": 4,
 "nbformat_minor": 2
}
